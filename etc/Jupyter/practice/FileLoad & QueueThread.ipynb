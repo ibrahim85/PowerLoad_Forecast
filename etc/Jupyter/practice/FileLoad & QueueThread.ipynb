{
 "cells": [
  {
   "cell_type": "code",
   "execution_count": 1,
   "metadata": {
    "collapsed": true
   },
   "outputs": [],
   "source": [
    "import tensorflow as tf"
   ]
  },
  {
   "cell_type": "code",
   "execution_count": 2,
   "metadata": {
    "collapsed": true
   },
   "outputs": [],
   "source": [
    "filename_queue = tf.train.string_input_producer(['test1.csv', 'test2.csv'])"
   ]
  },
  {
   "cell_type": "code",
   "execution_count": 3,
   "metadata": {
    "collapsed": true
   },
   "outputs": [],
   "source": [
    "reader = tf.TextLineReader()"
   ]
  },
  {
   "cell_type": "code",
   "execution_count": 4,
   "metadata": {
    "collapsed": false
   },
   "outputs": [],
   "source": [
    "key, value = reader.read(filename_queue)\n",
    "#print key\n",
    "#print value"
   ]
  },
  {
   "cell_type": "code",
   "execution_count": 5,
   "metadata": {
    "collapsed": true
   },
   "outputs": [],
   "source": [
    "record_defaults = [[1], [1], [1], [1], [1], [1], [1], [1], [1]]"
   ]
  },
  {
   "cell_type": "code",
   "execution_count": 6,
   "metadata": {
    "collapsed": true
   },
   "outputs": [],
   "source": [
    "col1, col2, col3, col4, col5, col6, col7, col8, col9 = tf.decode_csv(value, record_defaults)"
   ]
  },
  {
   "cell_type": "code",
   "execution_count": 7,
   "metadata": {
    "collapsed": false
   },
   "outputs": [],
   "source": [
    "feature = tf.stack([col1, col2, col3, col4, col5, col6, col7, col8, col9])"
   ]
  },
  {
   "cell_type": "code",
   "execution_count": 9,
   "metadata": {
    "collapsed": false
   },
   "outputs": [
    {
     "name": "stdout",
     "output_type": "stream",
     "text": [
      "example:  [11 22 33 44 55 66 77 88 99]\n",
      "label:  33\n",
      "\n",
      "example:  [111 222 333 444 555 666 777 888 999]\n",
      "label:  333\n",
      "\n",
      "example:  [ 3  6  9 12 15 18 21 24 27]\n",
      "label:  9\n",
      "\n",
      "example:  [10 20 30 40 50 60 70 80 90]\n",
      "label:  30\n",
      "\n",
      "example:  [1 2 3 4 5 6 7 8 9]\n",
      "label:  3\n",
      "\n",
      "example:  [ 2  4  6  8 10 12 14 16 18]\n",
      "label:  6\n",
      "\n"
     ]
    }
   ],
   "source": [
    "with tf.Session() as sess:\n",
    "    coord = tf.train.Coordinator()\n",
    "    threads = tf.train.start_queue_runners(coord=coord)\n",
    "    \n",
    "    for i in range(0, 6):\n",
    "        example, label = sess.run([feature, col3])\n",
    "        print 'example: ', example \n",
    "        print 'label: ', label\n",
    "        print\n",
    "    \n",
    "    coord.request_stop()\n",
    "    coord.join(threads)"
   ]
  },
  {
   "cell_type": "code",
   "execution_count": null,
   "metadata": {
    "collapsed": true
   },
   "outputs": [],
   "source": []
  }
 ],
 "metadata": {
  "kernelspec": {
   "display_name": "Python 2",
   "language": "python",
   "name": "python2"
  },
  "language_info": {
   "codemirror_mode": {
    "name": "ipython",
    "version": 2
   },
   "file_extension": ".py",
   "mimetype": "text/x-python",
   "name": "python",
   "nbconvert_exporter": "python",
   "pygments_lexer": "ipython2",
   "version": "2.7.12"
  }
 },
 "nbformat": 4,
 "nbformat_minor": 0
}
