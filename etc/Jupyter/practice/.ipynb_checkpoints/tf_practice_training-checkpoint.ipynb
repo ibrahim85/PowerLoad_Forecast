{
 "cells": [
  {
   "cell_type": "code",
   "execution_count": 1,
   "metadata": {
    "collapsed": true
   },
   "outputs": [],
   "source": [
    "import tensorflow as tf"
   ]
  },
  {
   "cell_type": "code",
   "execution_count": 2,
   "metadata": {
    "collapsed": true
   },
   "outputs": [],
   "source": [
    "input_data = [[1, 5, 3, 7, 8, 10, 12], \n",
    "              [5, 8, 10, 3, 9, 7, 1]]\n",
    "label_data = [[0, 0, 0, 1, 0],\n",
    "             [1, 0, 0, 0, 0]]"
   ]
  },
  {
   "cell_type": "code",
   "execution_count": 3,
   "metadata": {
    "collapsed": true
   },
   "outputs": [],
   "source": [
    "INPUT_SIZE = 7\n",
    "HIDDEN1_SIZE = 10\n",
    "HIDDEN2_SIZE = 8\n",
    "OUTPUT_SIZE = 5\n",
    "\n",
    "LearningRate = 0.05"
   ]
  },
  {
   "cell_type": "code",
   "execution_count": 4,
   "metadata": {
    "collapsed": false
   },
   "outputs": [],
   "source": [
    "x = tf.placeholder(tf.float32, shape=[None, INPUT_SIZE], name=\"input\")\n",
    "y_ = tf.placeholder(tf.float32, shape=[None, OUTPUT_SIZE], name=\"output\")"
   ]
  },
  {
   "cell_type": "code",
   "execution_count": 5,
   "metadata": {
    "collapsed": false
   },
   "outputs": [],
   "source": [
    "tensor_map = {x: input_data, y_: label_data}"
   ]
  },
  {
   "cell_type": "code",
   "execution_count": 6,
   "metadata": {
    "collapsed": false
   },
   "outputs": [],
   "source": [
    "W_h1 = tf.Variable(tf.truncated_normal(shape=[INPUT_SIZE, HIDDEN1_SIZE]), dtype=tf.float32, name='W_h1')\n",
    "b_h1 = tf.Variable(tf.zeros(shape=[HIDDEN1_SIZE]), dtype=tf.float32, name='b_h1')\n",
    "\n",
    "W_h2 = tf.Variable(tf.truncated_normal(shape=[HIDDEN1_SIZE, HIDDEN2_SIZE]), dtype=tf.float32, name='W_h2')\n",
    "b_h2 = tf.Variable(tf.zeros(shape=[HIDDEN2_SIZE]), dtype=tf.float32, name='b_h2')\n",
    "\n",
    "W_o = tf.Variable(tf.truncated_normal(shape=[HIDDEN2_SIZE, OUTPUT_SIZE]), dtype=tf.float32, name='W_o')\n",
    "b_o = tf.Variable(tf.zeros(shape=[OUTPUT_SIZE]), dtype=tf.float32, name='b_o')"
   ]
  },
  {
   "cell_type": "code",
   "execution_count": 7,
   "metadata": {
    "collapsed": true
   },
   "outputs": [],
   "source": [
    "param_list = [W_h1, b_h1, W_h2, b_h2, W_o, b_o]\n",
    "saver = tf.train.Saver(param_list)"
   ]
  },
  {
   "cell_type": "code",
   "execution_count": 8,
   "metadata": {
    "collapsed": true
   },
   "outputs": [],
   "source": [
    "with tf.name_scope('hidden_layer_1') as h1scope:\n",
    "    hidden1 = tf.sigmoid(tf.matmul(x, W_h1) + b_h1, name='hidden1')\n",
    "\n",
    "with tf.name_scope('hidden_layer_2') as h2scope:\n",
    "    hidden2 = tf.sigmoid(tf.matmul(hidden1, W_h2) + b_h2, name='hidden2')\n",
    "\n",
    "with tf.name_scope('output_layer') as oscope:\n",
    "    y = tf.sigmoid(tf.matmul(hidden2, W_o) + b_o, name='y')"
   ]
  },
  {
   "cell_type": "code",
   "execution_count": 9,
   "metadata": {
    "collapsed": false
   },
   "outputs": [],
   "source": [
    "with tf.name_scope('cost'):\n",
    "    cost = tf.reduce_mean(-y_*tf.log(y)-(1-y_)*tf.log(1-y))\n",
    "    tf.summary.scalar('cost/', cost)\n",
    "with tf.name_scope('training'):\n",
    "    train = tf.train.GradientDescentOptimizer(LearningRate).minimize(cost)"
   ]
  },
  {
   "cell_type": "code",
   "execution_count": 10,
   "metadata": {
    "collapsed": false
   },
   "outputs": [],
   "source": [
    "with tf.name_scope('evaluation'):\n",
    "    comp_pred = tf.equal(tf.arg_max(y, 1), tf.arg_max(y_, 1))\n",
    "    accuracy = tf.reduce_mean(tf.cast(comp_pred, tf.float32))"
   ]
  },
  {
   "cell_type": "code",
   "execution_count": 11,
   "metadata": {
    "collapsed": true
   },
   "outputs": [],
   "source": [
    "# sess = tf.Session()"
   ]
  },
  {
   "cell_type": "code",
   "execution_count": 12,
   "metadata": {
    "collapsed": false
   },
   "outputs": [
    {
     "name": "stdout",
     "output_type": "stream",
     "text": [
      "step:  0\n",
      "loss:  1.04607\n",
      "acc:  0.0\n",
      "\n",
      "step:  100\n",
      "loss:  0.316301\n",
      "acc:  1.0\n",
      "\n",
      "step:  200\n",
      "loss:  0.23746\n",
      "acc:  1.0\n",
      "\n",
      "step:  300\n",
      "loss:  0.198253\n",
      "acc:  1.0\n",
      "\n",
      "step:  400\n",
      "loss:  0.169963\n",
      "acc:  1.0\n",
      "\n",
      "step:  500\n",
      "loss:  0.147475\n",
      "acc:  1.0\n",
      "\n",
      "step:  600\n",
      "loss:  0.129053\n",
      "acc:  1.0\n",
      "\n",
      "step:  700\n",
      "loss:  0.113722\n",
      "acc:  1.0\n",
      "\n",
      "step:  800\n",
      "loss:  0.100088\n",
      "acc:  1.0\n",
      "\n",
      "step:  900\n",
      "loss:  0.0751956\n",
      "acc:  1.0\n",
      "\n"
     ]
    }
   ],
   "source": [
    "with tf.Session() as sess:\n",
    "    init = tf.global_variables_initializer()\n",
    "    sess.run(init)\n",
    "    \n",
    "    merged = tf.summary.merge_all()\n",
    "    train_writer = tf.summary.FileWriter('./summaries', sess.graph)\n",
    "    \n",
    "    for i in range(0, 1000):\n",
    "        summary, _, loss, acc = sess.run([merged, train, cost, accuracy], feed_dict=tensor_map)\n",
    "        if i % 100 == 0:\n",
    "            train_writer.add_summary(summary, i)\n",
    "            saver.save(sess, './tensorflow.ckpt')\n",
    "            \n",
    "            print \"step: \", i\n",
    "            print \"loss: \", loss\n",
    "            print \"acc: \", acc\n",
    "            print\n"
   ]
  },
  {
   "cell_type": "code",
   "execution_count": null,
   "metadata": {
    "collapsed": true
   },
   "outputs": [],
   "source": []
  }
 ],
 "metadata": {
  "kernelspec": {
   "display_name": "Python 2",
   "language": "python",
   "name": "python2"
  },
  "language_info": {
   "codemirror_mode": {
    "name": "ipython",
    "version": 2
   },
   "file_extension": ".py",
   "mimetype": "text/x-python",
   "name": "python",
   "nbconvert_exporter": "python",
   "pygments_lexer": "ipython2",
   "version": "2.7.12"
  }
 },
 "nbformat": 4,
 "nbformat_minor": 0
}
