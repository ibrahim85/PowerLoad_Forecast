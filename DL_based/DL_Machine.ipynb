{
 "cells": [
  {
   "cell_type": "code",
   "execution_count": 1,
   "metadata": {
    "collapsed": true
   },
   "outputs": [],
   "source": [
    "import tensorflow as tf\n",
    "import numpy as np\n",
    "import pandas as pd\n",
    "import math\n",
    "import cPickle as pickle"
   ]
  },
  {
   "cell_type": "markdown",
   "metadata": {},
   "source": [
    "# Data Parsing\n"
   ]
  },
  {
   "cell_type": "code",
   "execution_count": 2,
   "metadata": {
    "collapsed": true
   },
   "outputs": [],
   "source": [
    "file = '/Users/JH/Desktop/NTU/NTU_Research/data/NEM_Load_Forecasting_Database.xls'\n",
    "\n",
    "concatenate_number = 2*4*4\n",
    "\n",
    "QLD = 'Actual_Data_QLD'\n",
    "NSW = 'Actual_Data_NSW'\n",
    "VIC = 'Actual_Data_VIC'\n",
    "SA = 'Actual_Data_SA'\n",
    "TAS = 'Actual_Data_TAS'"
   ]
  },
  {
   "cell_type": "code",
   "execution_count": 3,
   "metadata": {
    "collapsed": true
   },
   "outputs": [],
   "source": [
    "# Set Classes as Data Container\n",
    "\n",
    "class Data:\n",
    "    def __init__(self, train, test):\n",
    "        self.train = train\n",
    "        self.test = test\n",
    "\n",
    "\n",
    "class DataSet(object):\n",
    "    class Temperature(Data):\n",
    "        def __init__(self, train, test):\n",
    "            super(self.__class__, self).__init__(train, test)\n",
    "\n",
    "    class PowerLoad(Data):\n",
    "        def __init__(self, train, test):\n",
    "            super(self.__class__, self).__init__(train, test)"
   ]
  },
  {
   "cell_type": "code",
   "execution_count": 4,
   "metadata": {
    "collapsed": true
   },
   "outputs": [],
   "source": [
    "# Set Functions\n",
    "\n",
    "def normalize(array):\n",
    "    return (array - min(array)) / (max(array) - min(array))\n",
    "\n",
    "\n",
    "def data_splitter(data, ratio=0.8):\n",
    "    \"\"\"\n",
    "    split data into training data & testing data\n",
    "    :param data:\n",
    "\n",
    "    :param ratio:\n",
    "        training data ratio\n",
    "    :return:\n",
    "        train_data, test_data\n",
    "    \"\"\"\n",
    "    splitter = int(len(data) * ratio)\n",
    "    return data[:splitter], data[splitter + 1:]\n",
    "\n",
    "\n",
    "def extract_feature_vector(df, dataset):\n",
    "    \"\"\"\n",
    "    assign data to designed data container\n",
    "    :param df:\n",
    "        pandas data-frame read from excel data format\n",
    "    :param dataset:\n",
    "        defined data container\n",
    "    :return:\n",
    "        N/A\n",
    "    \"\"\"\n",
    "    temperature_max_scanner = []\n",
    "    temperature_mean_scanner = []\n",
    "    temperature_collector = []\n",
    "\n",
    "    powerload_scanner = []\n",
    "    powerload_collector = []\n",
    "\n",
    "    for row in xrange(0, len(df)):\n",
    "        if not math.isnan(df['Max Tem.'][row]) and not math.isnan(df['Mean Tem.'][row]):\n",
    "            temperature_max_scanner.append(df['Max Tem.'][row])\n",
    "            temperature_mean_scanner.append(df['Mean Tem.'][row])\n",
    "\n",
    "        if len(temperature_max_scanner) is concatenate_number:\n",
    "            temperature_collector.append(normalize(np.array(temperature_max_scanner + temperature_mean_scanner)))\n",
    "            temperature_max_scanner.pop(0)\n",
    "            temperature_mean_scanner.pop(0)\n",
    "\n",
    "            for col in xrange(5, 53):\n",
    "                powerload_scanner.append(df.loc[row][col])\n",
    "            powerload_collector.append(normalize(np.array(powerload_scanner)))\n",
    "            del (powerload_scanner[:])\n",
    "\n",
    "    dataset.Temperature.train, dataset.Temperature.test = data_splitter(np.array(temperature_collector))\n",
    "    dataset.PowerLoad.train, dataset.PowerLoad.test = data_splitter(np.array(powerload_collector))"
   ]
  },
  {
   "cell_type": "code",
   "execution_count": 5,
   "metadata": {
    "collapsed": true
   },
   "outputs": [],
   "source": [
    "df = pd.read_excel(file, sheetname=QLD)\n",
    "dataset = DataSet()\n",
    "extract_feature_vector(df, dataset)"
   ]
  },
  {
   "cell_type": "markdown",
   "metadata": {},
   "source": [
    "### checking parsed data"
   ]
  },
  {
   "cell_type": "code",
   "execution_count": 6,
   "metadata": {
    "collapsed": false
   },
   "outputs": [
    {
     "name": "stdout",
     "output_type": "stream",
     "text": [
      "data:  [[ 0.77848101  0.63291139  0.60126582 ...,  0.26265823  0.27531646\n",
      "   0.58544304]\n",
      " [ 0.63291139  0.60126582  0.44936709 ...,  0.27531646  0.58544304\n",
      "   0.33544304]\n",
      " [ 0.60126582  0.44936709  0.24050633 ...,  0.58544304  0.33544304\n",
      "   0.26582278]\n",
      " ..., \n",
      " [ 0.90960452  0.70621469  0.46892655 ...,  0.29943503  0.23163842\n",
      "   0.03389831]\n",
      " [ 0.79607843  0.63137255  0.85098039 ...,  0.46666667  0.32941176  0.        ]\n",
      " [ 0.63137255  0.85098039  0.9372549  ...,  0.32941176  0.          0.11764706]]\n",
      "shape:  (316, 64)\n",
      "type:  <type 'numpy.ndarray'>\n",
      "\n",
      "data:  [ 0.77848101  0.63291139  0.60126582  0.44936709  0.24050633  0.5443038\n",
      "  0.56962025  0.28481013  0.24050633  0.43037975  0.42405063  0.51898734\n",
      "  0.62658228  0.81012658  0.75316456  0.37974684  0.5443038   0.79113924\n",
      "  0.63291139  0.63291139  0.62658228  0.47468354  0.17721519  0.08860759\n",
      "  0.37974684  0.44303797  0.33544304  0.17721519  0.46835443  0.48734177\n",
      "  0.53164557  1.          0.4335443   0.40506329  0.34493671  0.25\n",
      "  0.16772152  0.31962025  0.28481013  0.18670886  0.08860759  0.19620253\n",
      "  0.22468354  0.19936709  0.33860759  0.5         0.52848101  0.3164557\n",
      "  0.34810127  0.4556962   0.37974684  0.28797468  0.32594937  0.30063291\n",
      "  0.0664557   0.07278481  0.18670886  0.26265823  0.12658228  0.\n",
      "  0.20886076  0.26265823  0.27531646  0.58544304]\n",
      "shape:  (64,)\n",
      "type:  <type 'numpy.ndarray'>\n",
      "\n",
      "length:  316\n"
     ]
    }
   ],
   "source": [
    "# Temperature Training Data\n",
    "print 'data: ',\n",
    "print dataset.Temperature.train  \n",
    "print 'shape: ', \n",
    "print dataset.Temperature.train.shape # (concatenate_number*2, )\n",
    "print 'type: ',\n",
    "print type(dataset.Temperature.train) # numpy.ndarray\n",
    "print\n",
    "\n",
    "print 'data: ',\n",
    "print dataset.Temperature.train[0]\n",
    "print 'shape: ', \n",
    "print dataset.Temperature.train[0].shape\n",
    "print 'type: ',\n",
    "print type(dataset.Temperature.train[0])\n",
    "print \n",
    "\n",
    "print 'length: ',\n",
    "print len(dataset.Temperature.train)"
   ]
  },
  {
   "cell_type": "code",
   "execution_count": 7,
   "metadata": {
    "collapsed": false
   },
   "outputs": [
    {
     "name": "stdout",
     "output_type": "stream",
     "text": [
      "data:  [[ 0.9372549   0.89803922  1.         ...,  0.11764706  0.31764706\n",
      "   0.39215686]\n",
      " [ 0.89803922  1.          1.         ...,  0.31764706  0.39215686\n",
      "   0.25882353]\n",
      " [ 1.          1.          0.86666667 ...,  0.39215686  0.25882353\n",
      "   0.42352941]\n",
      " ..., \n",
      " [ 0.29100529  0.28042328  0.25396825 ...,  0.25396825  0.38624339\n",
      "   0.37566138]\n",
      " [ 0.28042328  0.25396825  0.31746032 ...,  0.38624339  0.37566138\n",
      "   0.53174603]\n",
      " [ 0.25396825  0.31746032  0.34391534 ...,  0.37566138  0.53174603\n",
      "   0.03703704]]\n",
      "shape:  (79, 64)\n",
      "type:  <type 'numpy.ndarray'>\n",
      "length:  79\n"
     ]
    }
   ],
   "source": [
    "# Temperature Test Data\n",
    "print 'data: ',\n",
    "print dataset.Temperature.test   \n",
    "\n",
    "print 'shape: ', \n",
    "print dataset.Temperature.test.shape # (concatenate_number*2, )\n",
    "\n",
    "print 'type: ',\n",
    "print type(dataset.Temperature.test) # numpy.ndarray\n",
    "\n",
    "print 'length: ',\n",
    "print len(dataset.Temperature.test)"
   ]
  },
  {
   "cell_type": "code",
   "execution_count": 8,
   "metadata": {
    "collapsed": false
   },
   "outputs": [
    {
     "name": "stdout",
     "output_type": "stream",
     "text": [
      "data:  [[ 0.51149971  0.42691504  0.3495058  ...,  0.52309447  0.45295571\n",
      "   0.41703098]\n",
      " [ 0.27789055  0.2277305   0.19529237 ...,  0.58314466  0.52474822\n",
      "   0.46428293]\n",
      " [ 0.34871836  0.26742205  0.21171903 ...,  0.6062755   0.52085892\n",
      "   0.45830197]\n",
      " ..., \n",
      " [ 0.54468085  0.43734602  0.30795073 ...,  0.58566629  0.57206047\n",
      "   0.54496081]\n",
      " [ 0.43033554  0.3437927   0.25947669 ...,  0.53697049  0.47613746\n",
      "   0.42876664]\n",
      " [ 0.31184273  0.24531056  0.18465897 ...,  0.61703224  0.54225866\n",
      "   0.48886123]]\n",
      "shape:  (79, 48)\n",
      "type:  <type 'numpy.ndarray'>\n",
      "\n",
      "data:  [  5.11499715e-01   4.26915035e-01   3.49505797e-01   2.46626117e-01\n",
      "   1.76962555e-01   1.08201863e-01   6.36285877e-02   2.53754039e-02\n",
      "   0.00000000e+00   3.80155864e-04   4.22923399e-03   3.52119369e-02\n",
      "   6.59570424e-02   1.46692644e-01   2.08135335e-01   3.45989356e-01\n",
      "   4.92349363e-01   5.78074511e-01   6.42796046e-01   6.75489451e-01\n",
      "   6.54723437e-01   6.46169930e-01   6.04067668e-01   5.65909523e-01\n",
      "   5.32265729e-01   4.87312298e-01   4.77570804e-01   4.79566622e-01\n",
      "   4.68494583e-01   4.36276373e-01   4.28340620e-01   4.31381867e-01\n",
      "   4.53811063e-01   5.17011975e-01   6.55531268e-01   8.64664512e-01\n",
      "   9.73294051e-01   1.00000000e+00   9.86551986e-01   9.21735412e-01\n",
      "   9.07289489e-01   9.02680099e-01   8.31400874e-01   7.36647025e-01\n",
      "   6.15472344e-01   5.23094469e-01   4.52955712e-01   4.17030983e-01]\n",
      "shape:  (48,)\n",
      "type:  <type 'numpy.ndarray'>\n",
      "length:  79\n"
     ]
    }
   ],
   "source": [
    "# PowerLoad Testing Data\n",
    "print 'data: ',\n",
    "print dataset.PowerLoad.test\n",
    "print 'shape: ',\n",
    "print dataset.PowerLoad.test.shape # \n",
    "print 'type: ',\n",
    "print type(dataset.PowerLoad.test) # numpy.ndarray\n",
    "print\n",
    "\n",
    "print 'data: ',\n",
    "print dataset.PowerLoad.test[0]\n",
    "print 'shape: ',\n",
    "print dataset.PowerLoad.test[0].shape # \n",
    "print 'type: ',\n",
    "print type(dataset.PowerLoad.test[0])\n",
    "\n",
    "print 'length: ',\n",
    "print len(dataset.PowerLoad.test)"
   ]
  },
  {
   "cell_type": "markdown",
   "metadata": {},
   "source": [
    "# DeepLearning Core"
   ]
  },
  {
   "cell_type": "markdown",
   "metadata": {},
   "source": [
    "## Training"
   ]
  },
  {
   "cell_type": "code",
   "execution_count": 9,
   "metadata": {
    "collapsed": true
   },
   "outputs": [],
   "source": [
    "# Parameters\n",
    "learning_rate = 0.001\n",
    "training_iters = 200000\n",
    "batch_size = 128\n",
    "display_step = 10\n",
    "\n",
    "# Network Parameters\n",
    "n_input = 2 * concatenate_number  # Temperature data as input (input matrix shape: ???)\n",
    "n_output = 48  # Predicted Power data as output  (48-points)\n",
    "dropout = 0.75  # Dropout, probability to keep units"
   ]
  },
  {
   "cell_type": "code",
   "execution_count": 10,
   "metadata": {
    "collapsed": true
   },
   "outputs": [],
   "source": [
    "# tf Graph input\n",
    "x = tf.placeholder(tf.float32, [None, n_input], name='temperature_input')\n",
    "y = tf.placeholder(tf.float32, [None, n_output], name='powerload_output')\n",
    "keep_prob = tf.placeholder(tf.float32, name='keep_prob')  # dropout (keep probability)"
   ]
  },
  {
   "cell_type": "code",
   "execution_count": 11,
   "metadata": {
    "collapsed": false
   },
   "outputs": [],
   "source": [
    "tensor_map = {x: dataset.Temperature.train, \n",
    "              y: dataset.PowerLoad.train, \n",
    "              keep_prob: 1}"
   ]
  },
  {
   "cell_type": "code",
   "execution_count": 12,
   "metadata": {
    "collapsed": true
   },
   "outputs": [],
   "source": [
    "# Create some wrappers for simplicity\n",
    "def conv2d(x, W, b, strides=1):\n",
    "    # Conv2D wrapper, with bias and relu activation\n",
    "    x = tf.nn.conv2d(x, W, strides=[1, strides, strides, 1], padding='SAME')\n",
    "    x = tf.nn.bias_add(x, b)\n",
    "    return tf.nn.relu(x)\n",
    "\n",
    "\n",
    "def maxpool2d(x, k=2):\n",
    "    # MaxPool2D wrapper\n",
    "    return tf.nn.max_pool(x, ksize=[1, k, k, 1], strides=[1, k, k, 1], padding='SAME')"
   ]
  },
  {
   "cell_type": "code",
   "execution_count": 13,
   "metadata": {
    "collapsed": true
   },
   "outputs": [],
   "source": [
    "# Create model\n",
    "def conv_net(x, weights, biases, dropout):\n",
    "    # Reshape input picture\n",
    "    with tf.name_scope('array_reshape') as array_reshape:\n",
    "        x = tf.reshape(x, shape=[-1, 2*4, 2*4, 1])\n",
    "\n",
    "    # Convolution Layer\n",
    "    with tf.name_scope('conv_layer1') as conv_layer1:\n",
    "        conv1 = conv2d(x, weights['wc1'], biases['bc1'])\n",
    "        # Max Pooling (down-sampling)\n",
    "        conv1 = maxpool2d(conv1, k=2)\n",
    "\n",
    "    # Convolution Layer\n",
    "    with tf.name_scope('conv_layer2') as conv_layer2:\n",
    "        conv2 = conv2d(conv1, weights['wc2'], biases['bc2'])\n",
    "        # Max Pooling (down-sampling)\n",
    "        conv2 = maxpool2d(conv2, k=2)\n",
    "\n",
    "    # Fully connected layer\n",
    "    # Reshape conv2 output to fit fully connected layer input\n",
    "    with tf.name_scope('fc_layer') as fc_layer:\n",
    "        fc1 = tf.reshape(conv2, [-1, weights['wd1'].get_shape().as_list()[0]])\n",
    "        fc1 = tf.add(tf.matmul(fc1, weights['wd1']), biases['bd1'])\n",
    "        fc1 = tf.nn.relu(fc1)\n",
    "        # Apply Dropout\n",
    "        fc1 = tf.nn.dropout(fc1, dropout)\n",
    "\n",
    "    # Output, class prediction\n",
    "    with tf.name_scope('output_layer') as output_layer:\n",
    "        out = tf.nn.sigmoid(tf.add(tf.matmul(fc1, weights['out']), biases['out']))\n",
    "    \n",
    "    return out"
   ]
  },
  {
   "cell_type": "code",
   "execution_count": 14,
   "metadata": {
    "collapsed": false
   },
   "outputs": [],
   "source": [
    "# Store layers weight & bias\n",
    "weights = {\n",
    "    # 3x3 conv, 1 input, 32 outputs(number of filter = 32)\n",
    "    'wc1': tf.Variable(tf.truncated_normal([3, 3, 1, 32]), name='wc1'),\n",
    "    \n",
    "    # 3x3 conv, 32 inputs, 64 outputs(number of filter = 64)\n",
    "    'wc2': tf.Variable(tf.truncated_normal([3, 3, 32, 64]), name='wc2'),\n",
    "    \n",
    "    # fully connected, width*height*64 inputs, 1024 outputs\n",
    "    'wd1': tf.Variable(tf.truncated_normal([4 * 4 * 64, 1024]), name='wd1'),\n",
    "    \n",
    "    # 1024 inputs, 48 outputs\n",
    "    'out': tf.Variable(tf.truncated_normal([1024, n_output]), name='wo1')\n",
    "}\n",
    "\n",
    "biases = {\n",
    "    'bc1': tf.Variable(tf.truncated_normal([32]), name='bc1'),\n",
    "    'bc2': tf.Variable(tf.truncated_normal([64]), name='bc2'),\n",
    "    'bd1': tf.Variable(tf.truncated_normal([1024]), name='bd1'),\n",
    "    'out': tf.Variable(tf.truncated_normal([n_output]), name='bo1')\n",
    "}"
   ]
  },
  {
   "cell_type": "code",
   "execution_count": null,
   "metadata": {
    "collapsed": true
   },
   "outputs": [],
   "source": []
  },
  {
   "cell_type": "code",
   "execution_count": 15,
   "metadata": {
    "collapsed": false
   },
   "outputs": [],
   "source": [
    "# Construct model\n",
    "pred = conv_net(x, weights, biases, keep_prob)\n",
    "\n",
    "# Define loss and optimizer\n",
    "with tf.name_scope('cost'):\n",
    "    cost = tf.reduce_mean(tf.nn.softmax_cross_entropy_with_logits(logits=pred, labels=y))\n",
    "    tf.summary.scalar('cost/', cost)\n",
    "    \n",
    "with tf.name_scope('optimization'):\n",
    "    optimizer = tf.train.AdamOptimizer(learning_rate=learning_rate).minimize(cost)\n",
    "\n",
    "# Ecaluation model\n",
    "with tf.name_scope('evaluation'):\n",
    "    pass\n",
    "\n",
    "# Initializing the variables\n",
    "init = tf.global_variables_initializer()"
   ]
  },
  {
   "cell_type": "code",
   "execution_count": null,
   "metadata": {
    "collapsed": true
   },
   "outputs": [],
   "source": []
  },
  {
   "cell_type": "code",
   "execution_count": 16,
   "metadata": {
    "collapsed": false
   },
   "outputs": [],
   "source": [
    "# next batch data selector\n",
    "def next_batch(dataset, batch_size, step):\n",
    "    \"\"\"\n",
    "    pick data and build next batch for training\n",
    "    :dataset\n",
    "    :param batch_size:\n",
    "    :return:\n",
    "    \"\"\"\n",
    "    start_idx = (step - 1) * batch_size\n",
    "    end_idx = step * batch_size\n",
    "    \n",
    "    index_checker = end_idx - len(dataset)\n",
    "    \n",
    "    if index_checker < 0:\n",
    "        batch_data = dataset[start_idx : end_idx]\n",
    "    else:\n",
    "        batch_data = np.concatenate((dataset[start_idx : len(dataset)], dataset[0 : index_checker]), axis=0)\n",
    "        \n",
    "    if len(batch_data) == batch_size:\n",
    "        return batch_data"
   ]
  },
  {
   "cell_type": "code",
   "execution_count": null,
   "metadata": {
    "collapsed": true
   },
   "outputs": [],
   "source": []
  },
  {
   "cell_type": "code",
   "execution_count": 17,
   "metadata": {
    "collapsed": false
   },
   "outputs": [
    {
     "ename": "InvalidArgumentError",
     "evalue": "Input to reshape is a tensor with 51744 values, but the requested shape requires a multiple of 64\n\t [[Node: array_reshape/Reshape = Reshape[T=DT_FLOAT, Tshape=DT_INT32, _device=\"/job:localhost/replica:0/task:0/cpu:0\"](_recv_temperature_input_0, array_reshape/Reshape/shape)]]\n\nCaused by op u'array_reshape/Reshape', defined at:\n  File \"/Users/JH/anaconda2/lib/python2.7/runpy.py\", line 174, in _run_module_as_main\n    \"__main__\", fname, loader, pkg_name)\n  File \"/Users/JH/anaconda2/lib/python2.7/runpy.py\", line 72, in _run_code\n    exec code in run_globals\n  File \"/Users/JH/anaconda2/lib/python2.7/site-packages/ipykernel/__main__.py\", line 3, in <module>\n    app.launch_new_instance()\n  File \"/Users/JH/anaconda2/lib/python2.7/site-packages/traitlets/config/application.py\", line 589, in launch_instance\n    app.start()\n  File \"/Users/JH/anaconda2/lib/python2.7/site-packages/ipykernel/kernelapp.py\", line 405, in start\n    ioloop.IOLoop.instance().start()\n  File \"/Users/JH/anaconda2/lib/python2.7/site-packages/zmq/eventloop/ioloop.py\", line 162, in start\n    super(ZMQIOLoop, self).start()\n  File \"/Users/JH/anaconda2/lib/python2.7/site-packages/tornado/ioloop.py\", line 883, in start\n    handler_func(fd_obj, events)\n  File \"/Users/JH/anaconda2/lib/python2.7/site-packages/tornado/stack_context.py\", line 275, in null_wrapper\n    return fn(*args, **kwargs)\n  File \"/Users/JH/anaconda2/lib/python2.7/site-packages/zmq/eventloop/zmqstream.py\", line 440, in _handle_events\n    self._handle_recv()\n  File \"/Users/JH/anaconda2/lib/python2.7/site-packages/zmq/eventloop/zmqstream.py\", line 472, in _handle_recv\n    self._run_callback(callback, msg)\n  File \"/Users/JH/anaconda2/lib/python2.7/site-packages/zmq/eventloop/zmqstream.py\", line 414, in _run_callback\n    callback(*args, **kwargs)\n  File \"/Users/JH/anaconda2/lib/python2.7/site-packages/tornado/stack_context.py\", line 275, in null_wrapper\n    return fn(*args, **kwargs)\n  File \"/Users/JH/anaconda2/lib/python2.7/site-packages/ipykernel/kernelbase.py\", line 260, in dispatcher\n    return self.dispatch_shell(stream, msg)\n  File \"/Users/JH/anaconda2/lib/python2.7/site-packages/ipykernel/kernelbase.py\", line 212, in dispatch_shell\n    handler(stream, idents, msg)\n  File \"/Users/JH/anaconda2/lib/python2.7/site-packages/ipykernel/kernelbase.py\", line 370, in execute_request\n    user_expressions, allow_stdin)\n  File \"/Users/JH/anaconda2/lib/python2.7/site-packages/ipykernel/ipkernel.py\", line 175, in do_execute\n    shell.run_cell(code, store_history=store_history, silent=silent)\n  File \"/Users/JH/anaconda2/lib/python2.7/site-packages/IPython/core/interactiveshell.py\", line 2723, in run_cell\n    interactivity=interactivity, compiler=compiler, result=result)\n  File \"/Users/JH/anaconda2/lib/python2.7/site-packages/IPython/core/interactiveshell.py\", line 2825, in run_ast_nodes\n    if self.run_code(code, result):\n  File \"/Users/JH/anaconda2/lib/python2.7/site-packages/IPython/core/interactiveshell.py\", line 2885, in run_code\n    exec(code_obj, self.user_global_ns, self.user_ns)\n  File \"<ipython-input-15-94faebf0460a>\", line 2, in <module>\n    pred = conv_net(x, weights, biases, keep_prob)\n  File \"<ipython-input-13-b9ca54e5c289>\", line 5, in conv_net\n    x = tf.reshape(x, shape=[-1, 2*4, 2*4, 1])\n  File \"/Users/JH/tensorflow/lib/python2.7/site-packages/tensorflow/python/ops/gen_array_ops.py\", line 2630, in reshape\n    name=name)\n  File \"/Users/JH/tensorflow/lib/python2.7/site-packages/tensorflow/python/framework/op_def_library.py\", line 763, in apply_op\n    op_def=op_def)\n  File \"/Users/JH/tensorflow/lib/python2.7/site-packages/tensorflow/python/framework/ops.py\", line 2395, in create_op\n    original_op=self._default_original_op, op_def=op_def)\n  File \"/Users/JH/tensorflow/lib/python2.7/site-packages/tensorflow/python/framework/ops.py\", line 1264, in __init__\n    self._traceback = _extract_stack()\n\nInvalidArgumentError (see above for traceback): Input to reshape is a tensor with 51744 values, but the requested shape requires a multiple of 64\n\t [[Node: array_reshape/Reshape = Reshape[T=DT_FLOAT, Tshape=DT_INT32, _device=\"/job:localhost/replica:0/task:0/cpu:0\"](_recv_temperature_input_0, array_reshape/Reshape/shape)]]\n",
     "output_type": "error",
     "traceback": [
      "\u001b[0;31m---------------------------------------------------------------------------\u001b[0m",
      "\u001b[0;31mInvalidArgumentError\u001b[0m                      Traceback (most recent call last)",
      "\u001b[0;32m<ipython-input-17-fbdbbe2db8c9>\u001b[0m in \u001b[0;36m<module>\u001b[0;34m()\u001b[0m\n\u001b[1;32m     19\u001b[0m \u001b[0;34m\u001b[0m\u001b[0m\n\u001b[1;32m     20\u001b[0m         \u001b[0;31m# Run optimization op (backprop)\u001b[0m\u001b[0;34m\u001b[0m\u001b[0;34m\u001b[0m\u001b[0m\n\u001b[0;32m---> 21\u001b[0;31m         \u001b[0msess\u001b[0m\u001b[0;34m.\u001b[0m\u001b[0mrun\u001b[0m\u001b[0;34m(\u001b[0m\u001b[0moptimizer\u001b[0m\u001b[0;34m,\u001b[0m \u001b[0mfeed_dict\u001b[0m\u001b[0;34m=\u001b[0m\u001b[0;34m{\u001b[0m\u001b[0mx\u001b[0m\u001b[0;34m:\u001b[0m \u001b[0mbatch_x\u001b[0m\u001b[0;34m,\u001b[0m \u001b[0my\u001b[0m\u001b[0;34m:\u001b[0m \u001b[0mbatch_y\u001b[0m\u001b[0;34m,\u001b[0m \u001b[0mkeep_prob\u001b[0m\u001b[0;34m:\u001b[0m \u001b[0;36m0.75\u001b[0m\u001b[0;34m}\u001b[0m\u001b[0;34m)\u001b[0m\u001b[0;34m\u001b[0m\u001b[0m\n\u001b[0m\u001b[1;32m     22\u001b[0m \u001b[0;34m\u001b[0m\u001b[0m\n\u001b[1;32m     23\u001b[0m         \u001b[0;32mif\u001b[0m \u001b[0mstep\u001b[0m \u001b[0;34m%\u001b[0m \u001b[0mdisplay_step\u001b[0m \u001b[0;34m==\u001b[0m \u001b[0;36m0\u001b[0m\u001b[0;34m:\u001b[0m\u001b[0;34m\u001b[0m\u001b[0m\n",
      "\u001b[0;32m/Users/JH/tensorflow/lib/python2.7/site-packages/tensorflow/python/client/session.pyc\u001b[0m in \u001b[0;36mrun\u001b[0;34m(self, fetches, feed_dict, options, run_metadata)\u001b[0m\n\u001b[1;32m    765\u001b[0m     \u001b[0;32mtry\u001b[0m\u001b[0;34m:\u001b[0m\u001b[0;34m\u001b[0m\u001b[0m\n\u001b[1;32m    766\u001b[0m       result = self._run(None, fetches, feed_dict, options_ptr,\n\u001b[0;32m--> 767\u001b[0;31m                          run_metadata_ptr)\n\u001b[0m\u001b[1;32m    768\u001b[0m       \u001b[0;32mif\u001b[0m \u001b[0mrun_metadata\u001b[0m\u001b[0;34m:\u001b[0m\u001b[0;34m\u001b[0m\u001b[0m\n\u001b[1;32m    769\u001b[0m         \u001b[0mproto_data\u001b[0m \u001b[0;34m=\u001b[0m \u001b[0mtf_session\u001b[0m\u001b[0;34m.\u001b[0m\u001b[0mTF_GetBuffer\u001b[0m\u001b[0;34m(\u001b[0m\u001b[0mrun_metadata_ptr\u001b[0m\u001b[0;34m)\u001b[0m\u001b[0;34m\u001b[0m\u001b[0m\n",
      "\u001b[0;32m/Users/JH/tensorflow/lib/python2.7/site-packages/tensorflow/python/client/session.pyc\u001b[0m in \u001b[0;36m_run\u001b[0;34m(self, handle, fetches, feed_dict, options, run_metadata)\u001b[0m\n\u001b[1;32m    963\u001b[0m     \u001b[0;32mif\u001b[0m \u001b[0mfinal_fetches\u001b[0m \u001b[0;32mor\u001b[0m \u001b[0mfinal_targets\u001b[0m\u001b[0;34m:\u001b[0m\u001b[0;34m\u001b[0m\u001b[0m\n\u001b[1;32m    964\u001b[0m       results = self._do_run(handle, final_targets, final_fetches,\n\u001b[0;32m--> 965\u001b[0;31m                              feed_dict_string, options, run_metadata)\n\u001b[0m\u001b[1;32m    966\u001b[0m     \u001b[0;32melse\u001b[0m\u001b[0;34m:\u001b[0m\u001b[0;34m\u001b[0m\u001b[0m\n\u001b[1;32m    967\u001b[0m       \u001b[0mresults\u001b[0m \u001b[0;34m=\u001b[0m \u001b[0;34m[\u001b[0m\u001b[0;34m]\u001b[0m\u001b[0;34m\u001b[0m\u001b[0m\n",
      "\u001b[0;32m/Users/JH/tensorflow/lib/python2.7/site-packages/tensorflow/python/client/session.pyc\u001b[0m in \u001b[0;36m_do_run\u001b[0;34m(self, handle, target_list, fetch_list, feed_dict, options, run_metadata)\u001b[0m\n\u001b[1;32m   1013\u001b[0m     \u001b[0;32mif\u001b[0m \u001b[0mhandle\u001b[0m \u001b[0;32mis\u001b[0m \u001b[0mNone\u001b[0m\u001b[0;34m:\u001b[0m\u001b[0;34m\u001b[0m\u001b[0m\n\u001b[1;32m   1014\u001b[0m       return self._do_call(_run_fn, self._session, feed_dict, fetch_list,\n\u001b[0;32m-> 1015\u001b[0;31m                            target_list, options, run_metadata)\n\u001b[0m\u001b[1;32m   1016\u001b[0m     \u001b[0;32melse\u001b[0m\u001b[0;34m:\u001b[0m\u001b[0;34m\u001b[0m\u001b[0m\n\u001b[1;32m   1017\u001b[0m       return self._do_call(_prun_fn, self._session, handle, feed_dict,\n",
      "\u001b[0;32m/Users/JH/tensorflow/lib/python2.7/site-packages/tensorflow/python/client/session.pyc\u001b[0m in \u001b[0;36m_do_call\u001b[0;34m(self, fn, *args)\u001b[0m\n\u001b[1;32m   1033\u001b[0m         \u001b[0;32mexcept\u001b[0m \u001b[0mKeyError\u001b[0m\u001b[0;34m:\u001b[0m\u001b[0;34m\u001b[0m\u001b[0m\n\u001b[1;32m   1034\u001b[0m           \u001b[0;32mpass\u001b[0m\u001b[0;34m\u001b[0m\u001b[0m\n\u001b[0;32m-> 1035\u001b[0;31m       \u001b[0;32mraise\u001b[0m \u001b[0mtype\u001b[0m\u001b[0;34m(\u001b[0m\u001b[0me\u001b[0m\u001b[0;34m)\u001b[0m\u001b[0;34m(\u001b[0m\u001b[0mnode_def\u001b[0m\u001b[0;34m,\u001b[0m \u001b[0mop\u001b[0m\u001b[0;34m,\u001b[0m \u001b[0mmessage\u001b[0m\u001b[0;34m)\u001b[0m\u001b[0;34m\u001b[0m\u001b[0m\n\u001b[0m\u001b[1;32m   1036\u001b[0m \u001b[0;34m\u001b[0m\u001b[0m\n\u001b[1;32m   1037\u001b[0m   \u001b[0;32mdef\u001b[0m \u001b[0m_extend_graph\u001b[0m\u001b[0;34m(\u001b[0m\u001b[0mself\u001b[0m\u001b[0;34m)\u001b[0m\u001b[0;34m:\u001b[0m\u001b[0;34m\u001b[0m\u001b[0m\n",
      "\u001b[0;31mInvalidArgumentError\u001b[0m: Input to reshape is a tensor with 51744 values, but the requested shape requires a multiple of 64\n\t [[Node: array_reshape/Reshape = Reshape[T=DT_FLOAT, Tshape=DT_INT32, _device=\"/job:localhost/replica:0/task:0/cpu:0\"](_recv_temperature_input_0, array_reshape/Reshape/shape)]]\n\nCaused by op u'array_reshape/Reshape', defined at:\n  File \"/Users/JH/anaconda2/lib/python2.7/runpy.py\", line 174, in _run_module_as_main\n    \"__main__\", fname, loader, pkg_name)\n  File \"/Users/JH/anaconda2/lib/python2.7/runpy.py\", line 72, in _run_code\n    exec code in run_globals\n  File \"/Users/JH/anaconda2/lib/python2.7/site-packages/ipykernel/__main__.py\", line 3, in <module>\n    app.launch_new_instance()\n  File \"/Users/JH/anaconda2/lib/python2.7/site-packages/traitlets/config/application.py\", line 589, in launch_instance\n    app.start()\n  File \"/Users/JH/anaconda2/lib/python2.7/site-packages/ipykernel/kernelapp.py\", line 405, in start\n    ioloop.IOLoop.instance().start()\n  File \"/Users/JH/anaconda2/lib/python2.7/site-packages/zmq/eventloop/ioloop.py\", line 162, in start\n    super(ZMQIOLoop, self).start()\n  File \"/Users/JH/anaconda2/lib/python2.7/site-packages/tornado/ioloop.py\", line 883, in start\n    handler_func(fd_obj, events)\n  File \"/Users/JH/anaconda2/lib/python2.7/site-packages/tornado/stack_context.py\", line 275, in null_wrapper\n    return fn(*args, **kwargs)\n  File \"/Users/JH/anaconda2/lib/python2.7/site-packages/zmq/eventloop/zmqstream.py\", line 440, in _handle_events\n    self._handle_recv()\n  File \"/Users/JH/anaconda2/lib/python2.7/site-packages/zmq/eventloop/zmqstream.py\", line 472, in _handle_recv\n    self._run_callback(callback, msg)\n  File \"/Users/JH/anaconda2/lib/python2.7/site-packages/zmq/eventloop/zmqstream.py\", line 414, in _run_callback\n    callback(*args, **kwargs)\n  File \"/Users/JH/anaconda2/lib/python2.7/site-packages/tornado/stack_context.py\", line 275, in null_wrapper\n    return fn(*args, **kwargs)\n  File \"/Users/JH/anaconda2/lib/python2.7/site-packages/ipykernel/kernelbase.py\", line 260, in dispatcher\n    return self.dispatch_shell(stream, msg)\n  File \"/Users/JH/anaconda2/lib/python2.7/site-packages/ipykernel/kernelbase.py\", line 212, in dispatch_shell\n    handler(stream, idents, msg)\n  File \"/Users/JH/anaconda2/lib/python2.7/site-packages/ipykernel/kernelbase.py\", line 370, in execute_request\n    user_expressions, allow_stdin)\n  File \"/Users/JH/anaconda2/lib/python2.7/site-packages/ipykernel/ipkernel.py\", line 175, in do_execute\n    shell.run_cell(code, store_history=store_history, silent=silent)\n  File \"/Users/JH/anaconda2/lib/python2.7/site-packages/IPython/core/interactiveshell.py\", line 2723, in run_cell\n    interactivity=interactivity, compiler=compiler, result=result)\n  File \"/Users/JH/anaconda2/lib/python2.7/site-packages/IPython/core/interactiveshell.py\", line 2825, in run_ast_nodes\n    if self.run_code(code, result):\n  File \"/Users/JH/anaconda2/lib/python2.7/site-packages/IPython/core/interactiveshell.py\", line 2885, in run_code\n    exec(code_obj, self.user_global_ns, self.user_ns)\n  File \"<ipython-input-15-94faebf0460a>\", line 2, in <module>\n    pred = conv_net(x, weights, biases, keep_prob)\n  File \"<ipython-input-13-b9ca54e5c289>\", line 5, in conv_net\n    x = tf.reshape(x, shape=[-1, 2*4, 2*4, 1])\n  File \"/Users/JH/tensorflow/lib/python2.7/site-packages/tensorflow/python/ops/gen_array_ops.py\", line 2630, in reshape\n    name=name)\n  File \"/Users/JH/tensorflow/lib/python2.7/site-packages/tensorflow/python/framework/op_def_library.py\", line 763, in apply_op\n    op_def=op_def)\n  File \"/Users/JH/tensorflow/lib/python2.7/site-packages/tensorflow/python/framework/ops.py\", line 2395, in create_op\n    original_op=self._default_original_op, op_def=op_def)\n  File \"/Users/JH/tensorflow/lib/python2.7/site-packages/tensorflow/python/framework/ops.py\", line 1264, in __init__\n    self._traceback = _extract_stack()\n\nInvalidArgumentError (see above for traceback): Input to reshape is a tensor with 51744 values, but the requested shape requires a multiple of 64\n\t [[Node: array_reshape/Reshape = Reshape[T=DT_FLOAT, Tshape=DT_INT32, _device=\"/job:localhost/replica:0/task:0/cpu:0\"](_recv_temperature_input_0, array_reshape/Reshape/shape)]]\n"
     ]
    }
   ],
   "source": [
    "with tf.Session() as sess:\n",
    "    # Initializing the variables\n",
    "    init = tf.global_variables_initializer()\n",
    "    sess.run(init)\n",
    "    \n",
    "    merged = tf.summary.merge_all()\n",
    "    train_writer = tf.summary.FileWriter('./summary', sess.graph)\n",
    "    \n",
    "    step = 1\n",
    "    \n",
    "    # Keep training until reach max iterations\n",
    "    while step * batch_size < training_iters:\n",
    "#         batch_x = next_batch(temperature_map, batch_size, step)\n",
    "#         batch_y = next_batch(power_vector_, batch_size, step)\n",
    "\n",
    "        batch_x = dataset.Temperature.train\n",
    "        batch_y = dataset.PowerLoad.train\n",
    "        \n",
    "    \n",
    "        # Run optimization op (backprop)\n",
    "        sess.run(optimizer, feed_dict={x: batch_x, y: batch_y, keep_prob: 0.75})\n",
    "        \n",
    "        if step % display_step == 0:\n",
    "            # Calculate batch loss and accuracy\n",
    "            loss = sess.run(cost, feed_dict={temperature_map: batch_x, power_vector_: batch_y, keep_prob: 1.})\n",
    "            print loss\n",
    "            #print(\"Iter \" + str(step * batch_size) + \", Minibatch Loss= \" + \\\n",
    "            #     \"{:.6f}\".format(loss) + \", Training Accuracy= \" + \\\n",
    "            #    \"{:.5f}\".format(acc))\n",
    "        step += 1\n",
    "        \n",
    "    print(\"Optimization Finished!\")"
   ]
  },
  {
   "cell_type": "code",
   "execution_count": null,
   "metadata": {
    "collapsed": false
   },
   "outputs": [],
   "source": [
    "print x"
   ]
  },
  {
   "cell_type": "code",
   "execution_count": null,
   "metadata": {
    "collapsed": true
   },
   "outputs": [],
   "source": []
  }
 ],
 "metadata": {
  "kernelspec": {
   "display_name": "Python 2",
   "language": "python",
   "name": "python2"
  },
  "language_info": {
   "codemirror_mode": {
    "name": "ipython",
    "version": 2
   },
   "file_extension": ".py",
   "mimetype": "text/x-python",
   "name": "python",
   "nbconvert_exporter": "python",
   "pygments_lexer": "ipython2",
   "version": "2.7.12"
  }
 },
 "nbformat": 4,
 "nbformat_minor": 0
}
