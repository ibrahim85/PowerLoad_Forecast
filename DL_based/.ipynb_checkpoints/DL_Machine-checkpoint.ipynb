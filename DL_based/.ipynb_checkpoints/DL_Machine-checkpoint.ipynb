{
 "cells": [
  {
   "cell_type": "code",
   "execution_count": 1,
   "metadata": {
    "collapsed": true
   },
   "outputs": [],
   "source": [
    "import tensorflow as tf\n",
    "import numpy as np\n",
    "import pandas as pd\n",
    "import math\n",
    "import cPickle as pickle\n",
    "import random"
   ]
  },
  {
   "cell_type": "markdown",
   "metadata": {},
   "source": [
    "# Data Parsing\n"
   ]
  },
  {
   "cell_type": "code",
   "execution_count": 2,
   "metadata": {
    "collapsed": true
   },
   "outputs": [],
   "source": [
    "file = '/Users/JH/Desktop/NTU/NTU_Research/data/NEM_Load_Forecasting_Database.xls'\n",
    "\n",
    "concatenate_number = 2*5*5\n",
    "\n",
    "QLD = 'Actual_Data_QLD'\n",
    "NSW = 'Actual_Data_NSW'\n",
    "VIC = 'Actual_Data_VIC'\n",
    "SA = 'Actual_Data_SA'\n",
    "TAS = 'Actual_Data_TAS'"
   ]
  },
  {
   "cell_type": "code",
   "execution_count": 3,
   "metadata": {
    "collapsed": true
   },
   "outputs": [],
   "source": [
    "# Set Classes as Data Container\n",
    "\n",
    "class Data:\n",
    "    def __init__(self, train, test):\n",
    "        self.train = train\n",
    "        self.test = test\n",
    "\n",
    "\n",
    "class DataSet(object):\n",
    "    class Temperature(Data):\n",
    "        def __init__(self, train, test):\n",
    "            super(self.__class__, self).__init__(train, test)\n",
    "\n",
    "    class PowerLoad(Data):\n",
    "        def __init__(self, train, test):\n",
    "            super(self.__class__, self).__init__(train, test)"
   ]
  },
  {
   "cell_type": "code",
   "execution_count": 4,
   "metadata": {
    "collapsed": true
   },
   "outputs": [],
   "source": [
    "# Set Functions\n",
    "\n",
    "def normalize(array):\n",
    "    return (array - min(array)) / (max(array) - min(array))\n",
    "\n",
    "\n",
    "def data_splitter(data, ratio=0.8):\n",
    "    \"\"\"\n",
    "    split data into training data & testing data\n",
    "    :param data:\n",
    "\n",
    "    :param ratio:\n",
    "        training data ratio\n",
    "    :return:\n",
    "        train_data, test_data\n",
    "    \"\"\"\n",
    "    splitter = int(len(data) * ratio)\n",
    "    return data[:splitter], data[splitter + 1:]\n",
    "\n",
    "\n",
    "def extract_feature(df, dataset):\n",
    "    \"\"\"\n",
    "    assign data to designed data container\n",
    "    :param df:\n",
    "        pandas data-frame read from excel data format\n",
    "    :param dataset:\n",
    "        defined data container\n",
    "    :return:\n",
    "        N/A\n",
    "    \"\"\"\n",
    "    temperature_max_scanner = []\n",
    "    temperature_mean_scanner = []\n",
    "    temperature_collector = []\n",
    "\n",
    "    powerload_scanner = []\n",
    "    powerload_collector = []\n",
    "\n",
    "    for row in xrange(0, len(df)):\n",
    "        if not math.isnan(df['Max Tem.'][row]) and not math.isnan(df['Mean Tem.'][row]):\n",
    "            temperature_max_scanner.append(df['Max Tem.'][row])\n",
    "            temperature_mean_scanner.append(df['Mean Tem.'][row])\n",
    "\n",
    "        if len(temperature_max_scanner) is concatenate_number:\n",
    "            temperature_collector.append(normalize(np.array(temperature_max_scanner + temperature_mean_scanner)))\n",
    "            temperature_max_scanner.pop(0)\n",
    "            temperature_mean_scanner.pop(0)\n",
    "\n",
    "            for col in xrange(5, 53):\n",
    "                powerload_scanner.append(df.loc[row][col])\n",
    "            powerload_collector.append(normalize(np.array(powerload_scanner)))\n",
    "            del (powerload_scanner[:])\n",
    "\n",
    "    dataset.Temperature.train, dataset.Temperature.test = data_splitter(np.array(temperature_collector))\n",
    "    dataset.PowerLoad.train, dataset.PowerLoad.test = data_splitter(np.array(powerload_collector))"
   ]
  },
  {
   "cell_type": "code",
   "execution_count": 5,
   "metadata": {
    "collapsed": true
   },
   "outputs": [],
   "source": [
    "df = pd.read_excel(file, sheetname=QLD)\n",
    "dataset = DataSet()\n",
    "extract_feature(df, dataset)"
   ]
  },
  {
   "cell_type": "markdown",
   "metadata": {},
   "source": [
    "### checking parsed data"
   ]
  },
  {
   "cell_type": "code",
   "execution_count": 6,
   "metadata": {
    "collapsed": false
   },
   "outputs": [
    {
     "name": "stdout",
     "output_type": "stream",
     "text": [
      "data:  [[ 0.77848101  0.63291139  0.60126582 ...,  0.24050633  0.09810127\n",
      "   0.2278481 ]\n",
      " [ 0.63291139  0.60126582  0.44936709 ...,  0.09810127  0.2278481\n",
      "   0.28481013]\n",
      " [ 0.60126582  0.44936709  0.24050633 ...,  0.2278481   0.28481013\n",
      "   0.23734177]\n",
      " ..., \n",
      " [ 1.          0.84466019  0.81877023 ...,  0.09708738  0.26213592\n",
      "   0.3236246 ]\n",
      " [ 1.          0.96934866  0.92337165 ...,  0.31034483  0.38314176\n",
      "   0.25287356]\n",
      " [ 0.97683398  0.93050193  1.         ...,  0.38610039  0.25482625\n",
      "   0.41698842]]\n",
      "shape:  (302, 100)\n",
      "type:  <type 'numpy.ndarray'>\n",
      "length:  302\n"
     ]
    }
   ],
   "source": [
    "# Temperature Training Data\n",
    "print 'data: ',\n",
    "print dataset.Temperature.train  \n",
    "\n",
    "print 'shape: ', \n",
    "print dataset.Temperature.train.shape # (concatenate_number*2, )\n",
    "\n",
    "print 'type: ',\n",
    "print type(dataset.Temperature.train) # numpy.ndarray\n",
    "\n",
    "print 'length: ',\n",
    "print len(dataset.Temperature.train)"
   ]
  },
  {
   "cell_type": "code",
   "execution_count": 7,
   "metadata": {
    "collapsed": false
   },
   "outputs": [
    {
     "name": "stdout",
     "output_type": "stream",
     "text": [
      "data:  [[ 1.          0.86100386  0.87644788 ...,  0.41698842  0.35907336\n",
      "   0.33590734]\n",
      " [ 0.8745098   0.89019608  0.89019608 ...,  0.36470588  0.34117647  0.4       ]\n",
      " [ 0.89019608  0.89019608  0.89803922 ...,  0.34117647  0.4         0.4627451 ]\n",
      " ..., \n",
      " [ 0.33656174  0.37530266  0.52058111 ...,  0.31719128  0.43825666\n",
      "   0.42857143]\n",
      " [ 0.37530266  0.52058111  0.2251816  ...,  0.43825666  0.42857143\n",
      "   0.57142857]\n",
      " [ 0.52058111  0.2251816   0.23970944 ...,  0.42857143  0.57142857\n",
      "   0.11864407]]\n",
      "shape:  (75, 100)\n",
      "type:  <type 'numpy.ndarray'>\n",
      "length:  75\n"
     ]
    }
   ],
   "source": [
    "# Temperature Test Data\n",
    "print 'data: ',\n",
    "print dataset.Temperature.test   \n",
    "\n",
    "print 'shape: ', \n",
    "print dataset.Temperature.test.shape # (concatenate_number*2, )\n",
    "\n",
    "print 'type: ',\n",
    "print type(dataset.Temperature.test) # numpy.ndarray\n",
    "\n",
    "print 'length: ',\n",
    "print len(dataset.Temperature.test)"
   ]
  },
  {
   "cell_type": "code",
   "execution_count": 8,
   "metadata": {
    "collapsed": false
   },
   "outputs": [
    {
     "name": "stdout",
     "output_type": "stream",
     "text": [
      "data:  [[ 0.38226771  0.29778805  0.25486959 ...,  0.65397454  0.53706761\n",
      "   0.46696746]\n",
      " [ 0.41441512  0.32697913  0.25947223 ...,  0.64816857  0.55084679\n",
      "   0.49239858]\n",
      " [ 0.42177199  0.32388648  0.26732594 ...,  0.62799485  0.54084258\n",
      "   0.48468403]\n",
      " ..., \n",
      " [ 0.51149971  0.42691504  0.3495058  ...,  0.52309447  0.45295571\n",
      "   0.41703098]\n",
      " [ 0.27789055  0.2277305   0.19529237 ...,  0.58314466  0.52474822\n",
      "   0.46428293]\n",
      " [ 0.34871836  0.26742205  0.21171903 ...,  0.6062755   0.52085892\n",
      "   0.45830197]]\n",
      "shape:  (302, 48)\n",
      "type:  <type 'numpy.ndarray'>\n",
      "length:  302\n"
     ]
    }
   ],
   "source": [
    "# PowerLoad Training Data\n",
    "print 'data: ',\n",
    "print dataset.PowerLoad.train\n",
    "\n",
    "print 'shape: ',\n",
    "print dataset.PowerLoad.train.shape # (48, )\n",
    "\n",
    "print 'type: ',\n",
    "print type(dataset.PowerLoad.train) # numpy.ndarray\n",
    "\n",
    "print 'length: ',\n",
    "print len(dataset.PowerLoad.train)"
   ]
  },
  {
   "cell_type": "code",
   "execution_count": 9,
   "metadata": {
    "collapsed": false
   },
   "outputs": [
    {
     "name": "stdout",
     "output_type": "stream",
     "text": [
      "data:  [[ 0.35862207  0.27923092  0.23440817 ...,  0.55433607  0.48503905\n",
      "   0.42455438]\n",
      " [ 0.39805698  0.28611439  0.22244103 ...,  0.60618791  0.5605444\n",
      "   0.52190276]\n",
      " [ 0.54951991  0.43613119  0.31637717 ...,  0.56521739  0.54261517\n",
      "   0.52702557]\n",
      " ..., \n",
      " [ 0.54468085  0.43734602  0.30795073 ...,  0.58566629  0.57206047\n",
      "   0.54496081]\n",
      " [ 0.43033554  0.3437927   0.25947669 ...,  0.53697049  0.47613746\n",
      "   0.42876664]\n",
      " [ 0.31184273  0.24531056  0.18465897 ...,  0.61703224  0.54225866\n",
      "   0.48886123]]\n",
      "shape:  (75, 48)\n",
      "type:  <type 'numpy.ndarray'>\n",
      "length:  75\n"
     ]
    }
   ],
   "source": [
    "# PowerLoad Testing Data\n",
    "print 'data: ',\n",
    "print dataset.PowerLoad.test\n",
    "\n",
    "print 'shape: ',\n",
    "print dataset.PowerLoad.test.shape # (48, )\n",
    "\n",
    "print 'type: ',\n",
    "print type(dataset.PowerLoad.test) # numpy.ndarray\n",
    "\n",
    "print 'length: ',\n",
    "print len(dataset.PowerLoad.test)"
   ]
  },
  {
   "cell_type": "markdown",
   "metadata": {},
   "source": [
    "# DeepLearning Core"
   ]
  },
  {
   "cell_type": "markdown",
   "metadata": {},
   "source": [
    "## Training"
   ]
  },
  {
   "cell_type": "code",
   "execution_count": 10,
   "metadata": {
    "collapsed": true
   },
   "outputs": [],
   "source": [
    "# Parameters\n",
    "learning_rate = 0.001\n",
    "training_iters = 200000\n",
    "batch_size = 128\n",
    "display_step = 10\n",
    "concatenate_number = 13\n",
    "\n",
    "# Network Parameters\n",
    "n_input = 2 * concatenate_number  # Temperature data as input (input matrix shape: 48*concatenate_number)\n",
    "n_output = 48  # Predicted Power data as output  (48-points)\n",
    "dropout = 0.75  # Dropout, probability to keep units"
   ]
  },
  {
   "cell_type": "code",
   "execution_count": 11,
   "metadata": {
    "collapsed": true
   },
   "outputs": [],
   "source": [
    "# tf Graph input\n",
    "temperature_map = tf.placeholder(tf.float32, [None, n_input], name='temperature_input')\n",
    "power_vector_ = tf.placeholder(tf.float32, [None, n_output], name='powerload_output')\n",
    "keep_prob = tf.placeholder(tf.float32, name='keep_prob')  # dropout (keep probability)"
   ]
  },
  {
   "cell_type": "code",
   "execution_count": 12,
   "metadata": {
    "collapsed": false
   },
   "outputs": [],
   "source": [
    "tensor_map = {temperature_map: dataset.Temperature.train, \n",
    "              power_vector_: dataset.PowerLoad.train, \n",
    "              keep_prob: dropout}"
   ]
  },
  {
   "cell_type": "code",
   "execution_count": 13,
   "metadata": {
    "collapsed": false
   },
   "outputs": [],
   "source": [
    "# Store layers weight & bias\n",
    "weights = {\n",
    "    # 5x5 conv, 1 input, 32 outputs\n",
    "    'wc1': tf.Variable(tf.random_normal([5, 5, 1, 32]), name='wc1'),\n",
    "    \n",
    "    # 5x5 conv, 32 inputs, 64 outputs\n",
    "    'wc2': tf.Variable(tf.random_normal([5, 5, 32, 64]), name='wc2'),\n",
    "    \n",
    "    # fully connected, 7*7*64 inputs, 1024 outputs\n",
    "    'wd1': tf.Variable(tf.random_normal([7 * 7 * 64, 1024]), name='wd1'),\n",
    "    \n",
    "    # 1024 inputs, 48 outputs\n",
    "    'out': tf.Variable(tf.random_normal([1024, n_output]), name='wo1')\n",
    "}\n",
    "\n",
    "biases = {\n",
    "    'bc1': tf.Variable(tf.random_normal([32]), name='bc1'),\n",
    "    'bc2': tf.Variable(tf.random_normal([64]), name='bc2'),\n",
    "    'bd1': tf.Variable(tf.random_normal([1024]), name='bd1'),\n",
    "    'out': tf.Variable(tf.random_normal([n_output]), name='bo1')\n",
    "}"
   ]
  },
  {
   "cell_type": "code",
   "execution_count": 14,
   "metadata": {
    "collapsed": true
   },
   "outputs": [],
   "source": [
    "# Create some wrappers for simplicity\n",
    "def conv2d(x, W, b, strides=1):\n",
    "    # Conv2D wrapper, with bias and relu activation\n",
    "    x = tf.nn.conv2d(x, W, strides=[1, strides, strides, 1], padding='SAME')\n",
    "    x = tf.nn.bias_add(x, b)\n",
    "    return tf.nn.relu(x)\n",
    "\n",
    "\n",
    "def maxpool2d(x, k=2):\n",
    "    # MaxPool2D wrapper\n",
    "    return tf.nn.max_pool(x, ksize=[1, k, k, 1], strides=[1, k, k, 1], padding='SAME')"
   ]
  },
  {
   "cell_type": "code",
   "execution_count": 18,
   "metadata": {
    "collapsed": true
   },
   "outputs": [],
   "source": [
    "# Create model\n",
    "def conv_net(x, weights, biases, dropout):\n",
    "    # Reshape input picture\n",
    "    with tf.name_scope('array_reshape') as array_reshape:\n",
    "        x = tf.reshape(x, shape=[-1, 2*5, 2*5, 1])\n",
    "\n",
    "    # Convolution Layer\n",
    "    with tf.name_scope('conv_layer1') as conv_layer1:\n",
    "        conv1 = conv2d(x, weights['wc1'], biases['bc1'])\n",
    "        # Max Pooling (down-sampling)\n",
    "        conv1 = maxpool2d(conv1, k=2)\n",
    "\n",
    "    # Convolution Layer\n",
    "    with tf.name_scope('conv_layer2') as conv_layer2:\n",
    "        conv2 = conv2d(conv1, weights['wc2'], biases['bc2'])\n",
    "        # Max Pooling (down-sampling)\n",
    "        conv2 = maxpool2d(conv2, k=2)\n",
    "\n",
    "    # Fully connected layer\n",
    "    # Reshape conv2 output to fit fully connected layer input\n",
    "    with tf.name_scope('fc_layer') as fc_layer:\n",
    "        fc1 = tf.reshape(conv2, [-1, weights['wd1'].get_shape().as_list()[0]])\n",
    "        fc1 = tf.add(tf.matmul(fc1, weights['wd1']), biases['bd1'])\n",
    "        fc1 = tf.nn.relu(fc1)\n",
    "        # Apply Dropout\n",
    "        fc1 = tf.nn.dropout(fc1, dropout)\n",
    "\n",
    "    # Output, class prediction\n",
    "    with tf.name_scope('output_layer') as output_layer:\n",
    "        out = tf.add(tf.matmul(fc1, weights['out']), biases['out'])\n",
    "    \n",
    "    return out"
   ]
  },
  {
   "cell_type": "code",
   "execution_count": 21,
   "metadata": {
    "collapsed": false
   },
   "outputs": [],
   "source": [
    "# Construct model\n",
    "pred = conv_net(temperature_map, weights, biases, keep_prob)\n",
    "\n",
    "# Define loss and optimizer\n",
    "with tf.name_scope('cost'):\n",
    "    cost = tf.reduce_mean(tf.nn.softmax_cross_entropy_with_logits(logits=pred, labels=power_vector_))\n",
    "    tf.summary.scalar('cost/', cost)\n",
    "    \n",
    "with tf.name_scope('optimization'):\n",
    "    optimizer = tf.train.AdamOptimizer(learning_rate=learning_rate).minimize(cost)\n",
    "\n",
    "# Initializing the variables\n",
    "init = tf.global_variables_initializer()"
   ]
  },
  {
   "cell_type": "code",
   "execution_count": null,
   "metadata": {
    "collapsed": true
   },
   "outputs": [],
   "source": [
    "with tf.Session as sess:\n",
    "    sess.run(init)\n",
    "    \n",
    "    merged = tf.summary.merge_all()\n",
    "    train_writer = tf.summary.FileWriter('./summary', sess.graph)\n",
    "    \n",
    "    step = 1\n",
    "    \n",
    "    # Keep training until reach max iterations\n",
    "    while step * batch_size < training_iters:\n",
    "        batch_x, batch_y = next_batch(temperature_map, power_vector, batch_size)\n",
    "        # Run optimization op (backprop)\n",
    "        sess.run(optimizer, feed_dict={temperature_map: batch_x, power_vector: batch_y,\n",
    "                                       keep_prob: dropout})\n",
    "        if step % display_step == 0:\n",
    "            # Calculate batch loss and accuracy\n",
    "            loss, acc = sess.run([cost, accuracy], feed_dict={temperature_map: batch_x,\n",
    "                                                              power_vector: batch_y,\n",
    "                                                              keep_prob: 1.})\n",
    "            print(\"Iter \" + str(step * batch_size) + \", Minibatch Loss= \" + \\\n",
    "                  \"{:.6f}\".format(loss) + \", Training Accuracy= \" + \\\n",
    "                  \"{:.5f}\".format(acc))\n",
    "        step += 1\n",
    "        \n",
    "    print(\"Optimization Finished!\")"
   ]
  }
 ],
 "metadata": {
  "kernelspec": {
   "display_name": "Python 2",
   "language": "python",
   "name": "python2"
  },
  "language_info": {
   "codemirror_mode": {
    "name": "ipython",
    "version": 2
   },
   "file_extension": ".py",
   "mimetype": "text/x-python",
   "name": "python",
   "nbconvert_exporter": "python",
   "pygments_lexer": "ipython2",
   "version": "2.7.12"
  }
 },
 "nbformat": 4,
 "nbformat_minor": 0
}
