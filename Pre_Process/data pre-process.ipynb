{
 "cells": [
  {
   "cell_type": "code",
   "execution_count": 1,
   "metadata": {
    "collapsed": true
   },
   "outputs": [],
   "source": [
    "import pandas as pd\n",
    "import numpy as np\n",
    "import cPickle as pickle"
   ]
  },
  {
   "cell_type": "markdown",
   "metadata": {},
   "source": [
    "# Data Parsing"
   ]
  },
  {
   "cell_type": "code",
   "execution_count": 2,
   "metadata": {
    "collapsed": true
   },
   "outputs": [],
   "source": [
    "# file directory in local data-base\n",
    "file = '/Users/JH/Desktop/NTU/NTU_Research/data/NEM_Load_Forecasting_Database.xls'\n",
    "\n",
    "# hyper parameter\n",
    "QLD = 'Actual_Data_QLD'\n",
    "NSW = 'Actual_Data_NSW'\n",
    "VIC = 'Actual_Data_VIC'\n",
    "SA = 'Actual_Data_SA'\n",
    "TAS = 'Actual_Data_TAS'"
   ]
  },
  {
   "cell_type": "code",
   "execution_count": 3,
   "metadata": {
    "collapsed": false
   },
   "outputs": [],
   "source": [
    "# Set Classes as Data Container\n",
    "\n",
    "class Structure:\n",
    "    feature = []\n",
    "    target = []\n",
    "    def __init__(self):\n",
    "        pass\n",
    "\n",
    "class Data:\n",
    "    class Train(Structure):\n",
    "        def __init__(self):\n",
    "            pass\n",
    "\n",
    "    class Test(Structure):\n",
    "        def __init__(self):\n",
    "            pass\n",
    "            \n",
    "class DataSet:\n",
    "    class Raw(Data):\n",
    "        pass\n",
    "    class PreProcessed(Data):\n",
    "        pass"
   ]
  },
  {
   "cell_type": "code",
   "execution_count": null,
   "metadata": {
    "collapsed": true
   },
   "outputs": [],
   "source": []
  },
  {
   "cell_type": "code",
   "execution_count": null,
   "metadata": {
    "collapsed": true
   },
   "outputs": [],
   "source": []
  },
  {
   "cell_type": "code",
   "execution_count": null,
   "metadata": {
    "collapsed": true
   },
   "outputs": [],
   "source": []
  },
  {
   "cell_type": "code",
   "execution_count": 4,
   "metadata": {
    "collapsed": true
   },
   "outputs": [],
   "source": [
    "df = pd.read_excel(file, sheetname=QLD)\n",
    "dataset = DataSet()"
   ]
  },
  {
   "cell_type": "code",
   "execution_count": null,
   "metadata": {
    "collapsed": true
   },
   "outputs": [],
   "source": [
    "def preprocessing(data):\n",
    "    trend = pd.DataFrame.rolling(data)\n",
    "    \n",
    "    return\n",
    "\n",
    "\n",
    "def data_alloter(df, dataset):\n",
    "    temperature_feature = []\n",
    "    powerload_feature = []\n",
    "    powerload_trend_feature = []\n",
    "    powerload_fluctuation_feature = []\n",
    "    \n",
    "    for row in xrange(0, len(df)):\n",
    "        if not math.isnan(df['Max Tem.'][row]) and not math.isnan(df['Mean Tem.'][row]):\n",
    "            temperature_feature.append([df['Max Tem.'][row], df['Mean Tem.'][row]])\n",
    "            \n",
    "            powerload_feature = df.loc[row][5:53]\n",
    "                "
   ]
  },
  {
   "cell_type": "code",
   "execution_count": null,
   "metadata": {
    "collapsed": true
   },
   "outputs": [],
   "source": []
  },
  {
   "cell_type": "code",
   "execution_count": 6,
   "metadata": {
    "collapsed": true
   },
   "outputs": [],
   "source": [
    "powerload = df.loc[3][5:53]"
   ]
  },
  {
   "cell_type": "code",
   "execution_count": 7,
   "metadata": {
    "collapsed": false
   },
   "outputs": [
    {
     "data": {
      "text/plain": [
       "Period0     5287.6\n",
       "Period1       5080\n",
       "Period2     4906.8\n",
       "Period3     4752.6\n",
       "Period4     4606.8\n",
       "Period5     4491.5\n",
       "Period6       4452\n",
       "Period7     4443.4\n",
       "Period8     4452.1\n",
       "Period9     4456.7\n",
       "Period10    4531.1\n",
       "Period11    4610.6\n",
       "Period12    4755.3\n",
       "Period13    5041.8\n",
       "Period14    5356.7\n",
       "Period15      5674\n",
       "Period16      5940\n",
       "Period17    6170.3\n",
       "Period18    6282.4\n",
       "Period19    6415.4\n",
       "Period20    6414.6\n",
       "Period21    6398.7\n",
       "Period22    6401.9\n",
       "Period23    6400.3\n",
       "Period24    6430.3\n",
       "Period25    6376.1\n",
       "Period26    6393.6\n",
       "Period27    6420.1\n",
       "Period28      6399\n",
       "Period29    6402.1\n",
       "Period30    6393.8\n",
       "Period31    6423.4\n",
       "Period32    6402.6\n",
       "Period33    6415.5\n",
       "Period34    6434.5\n",
       "Period35    6428.1\n",
       "Period36    6454.8\n",
       "Period37    6359.7\n",
       "Period38    6360.5\n",
       "Period39    6435.6\n",
       "Period40    6408.7\n",
       "Period41    6320.1\n",
       "Period42    6222.4\n",
       "Period43      6170\n",
       "Period44    5935.6\n",
       "Period45      5767\n",
       "Period46    5690.8\n",
       "Period47    5602.3\n",
       "Name: 3, dtype: object"
      ]
     },
     "execution_count": 7,
     "metadata": {},
     "output_type": "execute_result"
    }
   ],
   "source": [
    "powerload"
   ]
  },
  {
   "cell_type": "code",
   "execution_count": 12,
   "metadata": {
    "collapsed": false
   },
   "outputs": [
    {
     "data": {
      "text/plain": [
       "Period0         NaN\n",
       "Period1         NaN\n",
       "Period2         NaN\n",
       "Period3         NaN\n",
       "Period4     4926.76\n",
       "Period5     4767.54\n",
       "Period6     4641.94\n",
       "Period7     4549.26\n",
       "Period8     4489.16\n",
       "Period9     4459.14\n",
       "Period10    4467.06\n",
       "Period11    4498.78\n",
       "Period12    4561.16\n",
       "Period13    4679.10\n",
       "Period14    4859.10\n",
       "Period15    5087.68\n",
       "Period16    5353.56\n",
       "Period17    5636.56\n",
       "Period18    5884.68\n",
       "Period19    6096.42\n",
       "Period20    6244.54\n",
       "Period21    6336.28\n",
       "Period22    6382.60\n",
       "Period23    6406.18\n",
       "Period24    6409.16\n",
       "Period25    6401.46\n",
       "Period26    6400.44\n",
       "Period27    6404.08\n",
       "Period28    6403.82\n",
       "Period29    6398.18\n",
       "Period30    6401.72\n",
       "Period31    6407.68\n",
       "Period32    6404.18\n",
       "Period33    6407.48\n",
       "Period34    6413.96\n",
       "Period35    6420.82\n",
       "Period36    6427.10\n",
       "Period37    6418.52\n",
       "Period38    6407.52\n",
       "Period39    6407.74\n",
       "Period40    6403.86\n",
       "Period41    6376.92\n",
       "Period42    6349.46\n",
       "Period43    6311.36\n",
       "Period44    6211.36\n",
       "Period45    6083.02\n",
       "Period46    5957.16\n",
       "Period47    5833.14\n",
       "Name: 3, dtype: float64"
      ]
     },
     "execution_count": 12,
     "metadata": {},
     "output_type": "execute_result"
    }
   ],
   "source": [
    "powerload.rolling(window=5).mean()"
   ]
  },
  {
   "cell_type": "code",
   "execution_count": null,
   "metadata": {
    "collapsed": true
   },
   "outputs": [],
   "source": []
  }
 ],
 "metadata": {
  "kernelspec": {
   "display_name": "Python 2",
   "language": "python",
   "name": "python2"
  },
  "language_info": {
   "codemirror_mode": {
    "name": "ipython",
    "version": 2
   },
   "file_extension": ".py",
   "mimetype": "text/x-python",
   "name": "python",
   "nbconvert_exporter": "python",
   "pygments_lexer": "ipython2",
   "version": "2.7.12"
  }
 },
 "nbformat": 4,
 "nbformat_minor": 0
}
